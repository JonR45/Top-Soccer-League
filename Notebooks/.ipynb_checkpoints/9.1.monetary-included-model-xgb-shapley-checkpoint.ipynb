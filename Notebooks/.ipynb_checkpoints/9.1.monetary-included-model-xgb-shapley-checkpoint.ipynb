{
 "cells": [
  {
   "cell_type": "markdown",
   "id": "438cab67-7102-4cc2-90db-3facb6263b40",
   "metadata": {},
   "source": [
    "# Predicting if a soccer player plays in the top 5 leagues in Europe"
   ]
  },
  {
   "cell_type": "markdown",
   "id": "17ee8417-8462-4d34-bec9-5fe51b7b5e65",
   "metadata": {},
   "source": [
    "## Shapley values"
   ]
  },
  {
   "cell_type": "markdown",
   "id": "9130d3c8-50cc-4a59-ba29-13791ba96f2a",
   "metadata": {},
   "source": [
    "# Import packages"
   ]
  },
  {
   "cell_type": "code",
   "execution_count": 1,
   "id": "92fc927c-31ee-4738-a8bb-8b8df964e49d",
   "metadata": {},
   "outputs": [
    {
     "name": "stdout",
     "output_type": "stream",
     "text": [
      "Collecting xgboost\n",
      "  Using cached xgboost-1.7.5-py3-none-macosx_10_15_x86_64.macosx_11_0_x86_64.macosx_12_0_x86_64.whl (1.8 MB)\n",
      "Requirement already satisfied: numpy in /Users/jonathonreid/virtual_environments/FIFA/env/lib/python3.10/site-packages (from xgboost) (1.24.3)\n",
      "Requirement already satisfied: scipy in /Users/jonathonreid/virtual_environments/FIFA/env/lib/python3.10/site-packages (from xgboost) (1.10.1)\n",
      "Installing collected packages: xgboost\n",
      "Successfully installed xgboost-1.7.5\n"
     ]
    }
   ],
   "source": [
    "import pandas as pd\n",
    "import matplotlib.pyplot as plt\n",
    "import xgboost as xgb\n",
    "from sklearn.model_selection import train_test_split\n",
    "from sklearn.metrics import accuracy_score, classification_report, confusion_matrix, ConfusionMatrixDisplay\n",
    "import shap"
   ]
  },
  {
   "cell_type": "markdown",
   "id": "dfd49be7-482c-4535-ae20-b22446fc32a9",
   "metadata": {},
   "source": [
    "# Load data"
   ]
  },
  {
   "cell_type": "code",
   "execution_count": 2,
   "id": "8bc2bdcd-2ad7-4500-8e5d-20dfd1200b03",
   "metadata": {},
   "outputs": [
    {
     "data": {
      "text/html": [
       "<div>\n",
       "<style scoped>\n",
       "    .dataframe tbody tr th:only-of-type {\n",
       "        vertical-align: middle;\n",
       "    }\n",
       "\n",
       "    .dataframe tbody tr th {\n",
       "        vertical-align: top;\n",
       "    }\n",
       "\n",
       "    .dataframe thead th {\n",
       "        text-align: right;\n",
       "    }\n",
       "</style>\n",
       "<table border=\"1\" class=\"dataframe\">\n",
       "  <thead>\n",
       "    <tr style=\"text-align: right;\">\n",
       "      <th></th>\n",
       "      <th>Age</th>\n",
       "      <th>Height</th>\n",
       "      <th>Weight</th>\n",
       "      <th>Overall</th>\n",
       "      <th>Potential</th>\n",
       "      <th>Growth</th>\n",
       "      <th>TotalStats</th>\n",
       "      <th>BaseStats</th>\n",
       "      <th>BestPosition</th>\n",
       "      <th>ValueEUR</th>\n",
       "      <th>WageEUR</th>\n",
       "      <th>ReleaseClause</th>\n",
       "      <th>IntReputation</th>\n",
       "      <th>WeakFoot</th>\n",
       "      <th>SkillMoves</th>\n",
       "      <th>AttackingWorkRate</th>\n",
       "      <th>DefensiveWorkRate</th>\n",
       "      <th>PaceTotal</th>\n",
       "      <th>ShootingTotal</th>\n",
       "      <th>PassingTotal</th>\n",
       "      <th>DribblingTotal</th>\n",
       "      <th>DefendingTotal</th>\n",
       "      <th>PhysicalityTotal</th>\n",
       "      <th>Crossing</th>\n",
       "      <th>Finishing</th>\n",
       "      <th>HeadingAccuracy</th>\n",
       "      <th>ShortPassing</th>\n",
       "      <th>Volleys</th>\n",
       "      <th>Dribbling</th>\n",
       "      <th>Curve</th>\n",
       "      <th>FKAccuracy</th>\n",
       "      <th>LongPassing</th>\n",
       "      <th>BallControl</th>\n",
       "      <th>Acceleration</th>\n",
       "      <th>SprintSpeed</th>\n",
       "      <th>Agility</th>\n",
       "      <th>Reactions</th>\n",
       "      <th>Balance</th>\n",
       "      <th>ShotPower</th>\n",
       "      <th>Jumping</th>\n",
       "      <th>Stamina</th>\n",
       "      <th>Strength</th>\n",
       "      <th>LongShots</th>\n",
       "      <th>Aggression</th>\n",
       "      <th>Interceptions</th>\n",
       "      <th>Positioning</th>\n",
       "      <th>Vision</th>\n",
       "      <th>Penalties</th>\n",
       "      <th>Composure</th>\n",
       "      <th>Marking</th>\n",
       "      <th>StandingTackle</th>\n",
       "      <th>SlidingTackle</th>\n",
       "      <th>GKDiving</th>\n",
       "      <th>GKHandling</th>\n",
       "      <th>GKKicking</th>\n",
       "      <th>GKPositioning</th>\n",
       "      <th>GKReflexes</th>\n",
       "      <th>STRating</th>\n",
       "      <th>LWRating</th>\n",
       "      <th>LFRating</th>\n",
       "      <th>CFRating</th>\n",
       "      <th>RFRating</th>\n",
       "      <th>RWRating</th>\n",
       "      <th>CAMRating</th>\n",
       "      <th>LMRating</th>\n",
       "      <th>CMRating</th>\n",
       "      <th>RMRating</th>\n",
       "      <th>LWBRating</th>\n",
       "      <th>CDMRating</th>\n",
       "      <th>RWBRating</th>\n",
       "      <th>LBRating</th>\n",
       "      <th>CBRating</th>\n",
       "      <th>RBRating</th>\n",
       "      <th>GKRating</th>\n",
       "      <th>Top_5_league</th>\n",
       "    </tr>\n",
       "  </thead>\n",
       "  <tbody>\n",
       "    <tr>\n",
       "      <th>0</th>\n",
       "      <td>35</td>\n",
       "      <td>169</td>\n",
       "      <td>67</td>\n",
       "      <td>91</td>\n",
       "      <td>91</td>\n",
       "      <td>0</td>\n",
       "      <td>2190</td>\n",
       "      <td>452</td>\n",
       "      <td>0</td>\n",
       "      <td>54000000</td>\n",
       "      <td>195000</td>\n",
       "      <td>99900000</td>\n",
       "      <td>5</td>\n",
       "      <td>4</td>\n",
       "      <td>4</td>\n",
       "      <td>1</td>\n",
       "      <td>1</td>\n",
       "      <td>81</td>\n",
       "      <td>89</td>\n",
       "      <td>90</td>\n",
       "      <td>94</td>\n",
       "      <td>34</td>\n",
       "      <td>64</td>\n",
       "      <td>84</td>\n",
       "      <td>90</td>\n",
       "      <td>70</td>\n",
       "      <td>91</td>\n",
       "      <td>88</td>\n",
       "      <td>95</td>\n",
       "      <td>93</td>\n",
       "      <td>93</td>\n",
       "      <td>90</td>\n",
       "      <td>93</td>\n",
       "      <td>87</td>\n",
       "      <td>76</td>\n",
       "      <td>91</td>\n",
       "      <td>92</td>\n",
       "      <td>95</td>\n",
       "      <td>86</td>\n",
       "      <td>68</td>\n",
       "      <td>70</td>\n",
       "      <td>68</td>\n",
       "      <td>91</td>\n",
       "      <td>44</td>\n",
       "      <td>40</td>\n",
       "      <td>93</td>\n",
       "      <td>94</td>\n",
       "      <td>75</td>\n",
       "      <td>96</td>\n",
       "      <td>20</td>\n",
       "      <td>35</td>\n",
       "      <td>24</td>\n",
       "      <td>6</td>\n",
       "      <td>11</td>\n",
       "      <td>15</td>\n",
       "      <td>14</td>\n",
       "      <td>8</td>\n",
       "      <td>90</td>\n",
       "      <td>90</td>\n",
       "      <td>91</td>\n",
       "      <td>91</td>\n",
       "      <td>91</td>\n",
       "      <td>90</td>\n",
       "      <td>91</td>\n",
       "      <td>91</td>\n",
       "      <td>88</td>\n",
       "      <td>91</td>\n",
       "      <td>67</td>\n",
       "      <td>66</td>\n",
       "      <td>67</td>\n",
       "      <td>62</td>\n",
       "      <td>53</td>\n",
       "      <td>62</td>\n",
       "      <td>22</td>\n",
       "      <td>1</td>\n",
       "    </tr>\n",
       "    <tr>\n",
       "      <th>1</th>\n",
       "      <td>34</td>\n",
       "      <td>185</td>\n",
       "      <td>81</td>\n",
       "      <td>91</td>\n",
       "      <td>91</td>\n",
       "      <td>0</td>\n",
       "      <td>2147</td>\n",
       "      <td>455</td>\n",
       "      <td>3</td>\n",
       "      <td>64000000</td>\n",
       "      <td>450000</td>\n",
       "      <td>131199999</td>\n",
       "      <td>4</td>\n",
       "      <td>4</td>\n",
       "      <td>4</td>\n",
       "      <td>2</td>\n",
       "      <td>2</td>\n",
       "      <td>80</td>\n",
       "      <td>88</td>\n",
       "      <td>83</td>\n",
       "      <td>87</td>\n",
       "      <td>39</td>\n",
       "      <td>78</td>\n",
       "      <td>75</td>\n",
       "      <td>92</td>\n",
       "      <td>90</td>\n",
       "      <td>89</td>\n",
       "      <td>88</td>\n",
       "      <td>87</td>\n",
       "      <td>82</td>\n",
       "      <td>73</td>\n",
       "      <td>76</td>\n",
       "      <td>91</td>\n",
       "      <td>79</td>\n",
       "      <td>80</td>\n",
       "      <td>78</td>\n",
       "      <td>92</td>\n",
       "      <td>72</td>\n",
       "      <td>87</td>\n",
       "      <td>79</td>\n",
       "      <td>82</td>\n",
       "      <td>82</td>\n",
       "      <td>80</td>\n",
       "      <td>63</td>\n",
       "      <td>39</td>\n",
       "      <td>92</td>\n",
       "      <td>89</td>\n",
       "      <td>84</td>\n",
       "      <td>90</td>\n",
       "      <td>43</td>\n",
       "      <td>24</td>\n",
       "      <td>18</td>\n",
       "      <td>13</td>\n",
       "      <td>11</td>\n",
       "      <td>5</td>\n",
       "      <td>5</td>\n",
       "      <td>7</td>\n",
       "      <td>91</td>\n",
       "      <td>87</td>\n",
       "      <td>89</td>\n",
       "      <td>89</td>\n",
       "      <td>89</td>\n",
       "      <td>87</td>\n",
       "      <td>91</td>\n",
       "      <td>89</td>\n",
       "      <td>84</td>\n",
       "      <td>89</td>\n",
       "      <td>67</td>\n",
       "      <td>67</td>\n",
       "      <td>67</td>\n",
       "      <td>63</td>\n",
       "      <td>58</td>\n",
       "      <td>63</td>\n",
       "      <td>21</td>\n",
       "      <td>1</td>\n",
       "    </tr>\n",
       "    <tr>\n",
       "      <th>2</th>\n",
       "      <td>33</td>\n",
       "      <td>185</td>\n",
       "      <td>81</td>\n",
       "      <td>91</td>\n",
       "      <td>91</td>\n",
       "      <td>0</td>\n",
       "      <td>2205</td>\n",
       "      <td>458</td>\n",
       "      <td>14</td>\n",
       "      <td>84000000</td>\n",
       "      <td>420000</td>\n",
       "      <td>172200000</td>\n",
       "      <td>5</td>\n",
       "      <td>4</td>\n",
       "      <td>4</td>\n",
       "      <td>0</td>\n",
       "      <td>2</td>\n",
       "      <td>75</td>\n",
       "      <td>91</td>\n",
       "      <td>79</td>\n",
       "      <td>86</td>\n",
       "      <td>44</td>\n",
       "      <td>83</td>\n",
       "      <td>71</td>\n",
       "      <td>94</td>\n",
       "      <td>91</td>\n",
       "      <td>84</td>\n",
       "      <td>89</td>\n",
       "      <td>85</td>\n",
       "      <td>79</td>\n",
       "      <td>85</td>\n",
       "      <td>70</td>\n",
       "      <td>89</td>\n",
       "      <td>76</td>\n",
       "      <td>75</td>\n",
       "      <td>77</td>\n",
       "      <td>93</td>\n",
       "      <td>82</td>\n",
       "      <td>91</td>\n",
       "      <td>85</td>\n",
       "      <td>76</td>\n",
       "      <td>87</td>\n",
       "      <td>84</td>\n",
       "      <td>81</td>\n",
       "      <td>49</td>\n",
       "      <td>94</td>\n",
       "      <td>81</td>\n",
       "      <td>90</td>\n",
       "      <td>88</td>\n",
       "      <td>35</td>\n",
       "      <td>42</td>\n",
       "      <td>19</td>\n",
       "      <td>15</td>\n",
       "      <td>6</td>\n",
       "      <td>12</td>\n",
       "      <td>8</td>\n",
       "      <td>10</td>\n",
       "      <td>91</td>\n",
       "      <td>85</td>\n",
       "      <td>88</td>\n",
       "      <td>88</td>\n",
       "      <td>88</td>\n",
       "      <td>85</td>\n",
       "      <td>88</td>\n",
       "      <td>86</td>\n",
       "      <td>83</td>\n",
       "      <td>86</td>\n",
       "      <td>67</td>\n",
       "      <td>69</td>\n",
       "      <td>67</td>\n",
       "      <td>64</td>\n",
       "      <td>63</td>\n",
       "      <td>64</td>\n",
       "      <td>22</td>\n",
       "      <td>1</td>\n",
       "    </tr>\n",
       "    <tr>\n",
       "      <th>3</th>\n",
       "      <td>31</td>\n",
       "      <td>181</td>\n",
       "      <td>70</td>\n",
       "      <td>91</td>\n",
       "      <td>91</td>\n",
       "      <td>0</td>\n",
       "      <td>2303</td>\n",
       "      <td>483</td>\n",
       "      <td>4</td>\n",
       "      <td>107500000</td>\n",
       "      <td>350000</td>\n",
       "      <td>198900000</td>\n",
       "      <td>4</td>\n",
       "      <td>5</td>\n",
       "      <td>4</td>\n",
       "      <td>0</td>\n",
       "      <td>0</td>\n",
       "      <td>74</td>\n",
       "      <td>88</td>\n",
       "      <td>93</td>\n",
       "      <td>87</td>\n",
       "      <td>64</td>\n",
       "      <td>77</td>\n",
       "      <td>94</td>\n",
       "      <td>85</td>\n",
       "      <td>55</td>\n",
       "      <td>93</td>\n",
       "      <td>83</td>\n",
       "      <td>88</td>\n",
       "      <td>89</td>\n",
       "      <td>83</td>\n",
       "      <td>93</td>\n",
       "      <td>90</td>\n",
       "      <td>76</td>\n",
       "      <td>73</td>\n",
       "      <td>76</td>\n",
       "      <td>91</td>\n",
       "      <td>78</td>\n",
       "      <td>92</td>\n",
       "      <td>63</td>\n",
       "      <td>88</td>\n",
       "      <td>74</td>\n",
       "      <td>91</td>\n",
       "      <td>75</td>\n",
       "      <td>66</td>\n",
       "      <td>88</td>\n",
       "      <td>94</td>\n",
       "      <td>83</td>\n",
       "      <td>89</td>\n",
       "      <td>68</td>\n",
       "      <td>65</td>\n",
       "      <td>53</td>\n",
       "      <td>15</td>\n",
       "      <td>13</td>\n",
       "      <td>5</td>\n",
       "      <td>10</td>\n",
       "      <td>13</td>\n",
       "      <td>86</td>\n",
       "      <td>88</td>\n",
       "      <td>87</td>\n",
       "      <td>87</td>\n",
       "      <td>87</td>\n",
       "      <td>88</td>\n",
       "      <td>91</td>\n",
       "      <td>91</td>\n",
       "      <td>91</td>\n",
       "      <td>91</td>\n",
       "      <td>82</td>\n",
       "      <td>82</td>\n",
       "      <td>82</td>\n",
       "      <td>78</td>\n",
       "      <td>72</td>\n",
       "      <td>78</td>\n",
       "      <td>24</td>\n",
       "      <td>1</td>\n",
       "    </tr>\n",
       "    <tr>\n",
       "      <th>4</th>\n",
       "      <td>23</td>\n",
       "      <td>182</td>\n",
       "      <td>73</td>\n",
       "      <td>91</td>\n",
       "      <td>95</td>\n",
       "      <td>4</td>\n",
       "      <td>2177</td>\n",
       "      <td>470</td>\n",
       "      <td>14</td>\n",
       "      <td>190500000</td>\n",
       "      <td>230000</td>\n",
       "      <td>366700000</td>\n",
       "      <td>4</td>\n",
       "      <td>4</td>\n",
       "      <td>5</td>\n",
       "      <td>0</td>\n",
       "      <td>1</td>\n",
       "      <td>97</td>\n",
       "      <td>89</td>\n",
       "      <td>80</td>\n",
       "      <td>92</td>\n",
       "      <td>36</td>\n",
       "      <td>76</td>\n",
       "      <td>78</td>\n",
       "      <td>93</td>\n",
       "      <td>72</td>\n",
       "      <td>85</td>\n",
       "      <td>83</td>\n",
       "      <td>93</td>\n",
       "      <td>80</td>\n",
       "      <td>69</td>\n",
       "      <td>71</td>\n",
       "      <td>91</td>\n",
       "      <td>97</td>\n",
       "      <td>97</td>\n",
       "      <td>93</td>\n",
       "      <td>93</td>\n",
       "      <td>81</td>\n",
       "      <td>88</td>\n",
       "      <td>77</td>\n",
       "      <td>87</td>\n",
       "      <td>76</td>\n",
       "      <td>82</td>\n",
       "      <td>64</td>\n",
       "      <td>38</td>\n",
       "      <td>92</td>\n",
       "      <td>83</td>\n",
       "      <td>80</td>\n",
       "      <td>88</td>\n",
       "      <td>26</td>\n",
       "      <td>34</td>\n",
       "      <td>32</td>\n",
       "      <td>13</td>\n",
       "      <td>5</td>\n",
       "      <td>7</td>\n",
       "      <td>11</td>\n",
       "      <td>6</td>\n",
       "      <td>92</td>\n",
       "      <td>90</td>\n",
       "      <td>90</td>\n",
       "      <td>90</td>\n",
       "      <td>90</td>\n",
       "      <td>90</td>\n",
       "      <td>92</td>\n",
       "      <td>92</td>\n",
       "      <td>84</td>\n",
       "      <td>92</td>\n",
       "      <td>70</td>\n",
       "      <td>66</td>\n",
       "      <td>70</td>\n",
       "      <td>66</td>\n",
       "      <td>57</td>\n",
       "      <td>66</td>\n",
       "      <td>21</td>\n",
       "      <td>1</td>\n",
       "    </tr>\n",
       "  </tbody>\n",
       "</table>\n",
       "</div>"
      ],
      "text/plain": [
       "   Age  Height  Weight  Overall  Potential  Growth  TotalStats  BaseStats  \\\n",
       "0   35     169      67       91         91       0        2190        452   \n",
       "1   34     185      81       91         91       0        2147        455   \n",
       "2   33     185      81       91         91       0        2205        458   \n",
       "3   31     181      70       91         91       0        2303        483   \n",
       "4   23     182      73       91         95       4        2177        470   \n",
       "\n",
       "   BestPosition   ValueEUR  WageEUR  ReleaseClause  IntReputation  WeakFoot  \\\n",
       "0             0   54000000   195000       99900000              5         4   \n",
       "1             3   64000000   450000      131199999              4         4   \n",
       "2            14   84000000   420000      172200000              5         4   \n",
       "3             4  107500000   350000      198900000              4         5   \n",
       "4            14  190500000   230000      366700000              4         4   \n",
       "\n",
       "   SkillMoves  AttackingWorkRate  DefensiveWorkRate  PaceTotal  ShootingTotal  \\\n",
       "0           4                  1                  1         81             89   \n",
       "1           4                  2                  2         80             88   \n",
       "2           4                  0                  2         75             91   \n",
       "3           4                  0                  0         74             88   \n",
       "4           5                  0                  1         97             89   \n",
       "\n",
       "   PassingTotal  DribblingTotal  DefendingTotal  PhysicalityTotal  Crossing  \\\n",
       "0            90              94              34                64        84   \n",
       "1            83              87              39                78        75   \n",
       "2            79              86              44                83        71   \n",
       "3            93              87              64                77        94   \n",
       "4            80              92              36                76        78   \n",
       "\n",
       "   Finishing  HeadingAccuracy  ShortPassing  Volleys  Dribbling  Curve  \\\n",
       "0         90               70            91       88         95     93   \n",
       "1         92               90            89       88         87     82   \n",
       "2         94               91            84       89         85     79   \n",
       "3         85               55            93       83         88     89   \n",
       "4         93               72            85       83         93     80   \n",
       "\n",
       "   FKAccuracy  LongPassing  BallControl  Acceleration  SprintSpeed  Agility  \\\n",
       "0          93           90           93            87           76       91   \n",
       "1          73           76           91            79           80       78   \n",
       "2          85           70           89            76           75       77   \n",
       "3          83           93           90            76           73       76   \n",
       "4          69           71           91            97           97       93   \n",
       "\n",
       "   Reactions  Balance  ShotPower  Jumping  Stamina  Strength  LongShots  \\\n",
       "0         92       95         86       68       70        68         91   \n",
       "1         92       72         87       79       82        82         80   \n",
       "2         93       82         91       85       76        87         84   \n",
       "3         91       78         92       63       88        74         91   \n",
       "4         93       81         88       77       87        76         82   \n",
       "\n",
       "   Aggression  Interceptions  Positioning  Vision  Penalties  Composure  \\\n",
       "0          44             40           93      94         75         96   \n",
       "1          63             39           92      89         84         90   \n",
       "2          81             49           94      81         90         88   \n",
       "3          75             66           88      94         83         89   \n",
       "4          64             38           92      83         80         88   \n",
       "\n",
       "   Marking  StandingTackle  SlidingTackle  GKDiving  GKHandling  GKKicking  \\\n",
       "0       20              35             24         6          11         15   \n",
       "1       43              24             18        13          11          5   \n",
       "2       35              42             19        15           6         12   \n",
       "3       68              65             53        15          13          5   \n",
       "4       26              34             32        13           5          7   \n",
       "\n",
       "   GKPositioning  GKReflexes  STRating  LWRating  LFRating  CFRating  \\\n",
       "0             14           8        90        90        91        91   \n",
       "1              5           7        91        87        89        89   \n",
       "2              8          10        91        85        88        88   \n",
       "3             10          13        86        88        87        87   \n",
       "4             11           6        92        90        90        90   \n",
       "\n",
       "   RFRating  RWRating  CAMRating  LMRating  CMRating  RMRating  LWBRating  \\\n",
       "0        91        90         91        91        88        91         67   \n",
       "1        89        87         91        89        84        89         67   \n",
       "2        88        85         88        86        83        86         67   \n",
       "3        87        88         91        91        91        91         82   \n",
       "4        90        90         92        92        84        92         70   \n",
       "\n",
       "   CDMRating  RWBRating  LBRating  CBRating  RBRating  GKRating  Top_5_league  \n",
       "0         66         67        62        53        62        22             1  \n",
       "1         67         67        63        58        63        21             1  \n",
       "2         69         67        64        63        64        22             1  \n",
       "3         82         82        78        72        78        24             1  \n",
       "4         66         70        66        57        66        21             1  "
      ]
     },
     "execution_count": 2,
     "metadata": {},
     "output_type": "execute_result"
    }
   ],
   "source": [
    "raw_data = pd.read_csv('../Data/Final/players_prepared.csv')\n",
    "data = raw_data.copy()\n",
    "df = pd.DataFrame(data)\n",
    "pd.set_option('display.max_columns', None)\n",
    "data.head()"
   ]
  },
  {
   "cell_type": "markdown",
   "id": "c1d59c2a-f2c1-412f-98cd-2adeeabd17d7",
   "metadata": {},
   "source": [
    "## Check shape and target value balance"
   ]
  },
  {
   "cell_type": "code",
   "execution_count": 3,
   "id": "c640da76-b96c-402a-a75b-c6d3587b1fb4",
   "metadata": {},
   "outputs": [
    {
     "data": {
      "text/plain": [
       "(18539, 75)"
      ]
     },
     "execution_count": 3,
     "metadata": {},
     "output_type": "execute_result"
    }
   ],
   "source": [
    "df.shape"
   ]
  },
  {
   "cell_type": "code",
   "execution_count": 4,
   "id": "be5c6011-ae2e-4343-81cb-c2ecd0229d98",
   "metadata": {},
   "outputs": [
    {
     "data": {
      "text/plain": [
       "0    15634\n",
       "1     2905\n",
       "Name: Top_5_league, dtype: int64"
      ]
     },
     "execution_count": 4,
     "metadata": {},
     "output_type": "execute_result"
    }
   ],
   "source": [
    "df['Top_5_league'].value_counts()"
   ]
  },
  {
   "cell_type": "markdown",
   "id": "7a21791c-ef48-4df1-a696-d9bdb46df05f",
   "metadata": {},
   "source": [
    "The 1s in our target variable (representing the players that play in the top 5 leagues) make up a small portion of the dataset. Let's see how the model performs, if it performs poorly then balancing the dataset is something to be considered."
   ]
  },
  {
   "cell_type": "markdown",
   "id": "f201310a-d65b-449c-aeb6-2ea9165e9dbf",
   "metadata": {},
   "source": [
    "# Split data"
   ]
  },
  {
   "cell_type": "code",
   "execution_count": 5,
   "id": "61a0d409-b03c-4b4f-a07e-5cb565159a89",
   "metadata": {},
   "outputs": [],
   "source": [
    "X = df.drop(['Top_5_league'], axis=1)\n",
    "y = df['Top_5_league']\n",
    "\n",
    "X_train, X_test, y_train, y_test = train_test_split(X, y, train_size=0.8, stratify=y, random_state=42)"
   ]
  },
  {
   "cell_type": "markdown",
   "id": "9609b26c-7f9f-419e-962c-7e5195f6c3a4",
   "metadata": {},
   "source": [
    "# Fit XGBClassifier model"
   ]
  },
  {
   "cell_type": "code",
   "execution_count": 6,
   "id": "d749ad21-71ea-4da7-be21-819d52865977",
   "metadata": {},
   "outputs": [],
   "source": [
    "xgb_model = xgb.XGBClassifier(random_state=42)"
   ]
  },
  {
   "cell_type": "code",
   "execution_count": 7,
   "id": "d8e62a6d-68b4-44cd-a10c-2d2a75e64416",
   "metadata": {
    "scrolled": true,
    "tags": []
   },
   "outputs": [
    {
     "data": {
      "text/html": [
       "<style>#sk-container-id-1 {color: black;background-color: white;}#sk-container-id-1 pre{padding: 0;}#sk-container-id-1 div.sk-toggleable {background-color: white;}#sk-container-id-1 label.sk-toggleable__label {cursor: pointer;display: block;width: 100%;margin-bottom: 0;padding: 0.3em;box-sizing: border-box;text-align: center;}#sk-container-id-1 label.sk-toggleable__label-arrow:before {content: \"▸\";float: left;margin-right: 0.25em;color: #696969;}#sk-container-id-1 label.sk-toggleable__label-arrow:hover:before {color: black;}#sk-container-id-1 div.sk-estimator:hover label.sk-toggleable__label-arrow:before {color: black;}#sk-container-id-1 div.sk-toggleable__content {max-height: 0;max-width: 0;overflow: hidden;text-align: left;background-color: #f0f8ff;}#sk-container-id-1 div.sk-toggleable__content pre {margin: 0.2em;color: black;border-radius: 0.25em;background-color: #f0f8ff;}#sk-container-id-1 input.sk-toggleable__control:checked~div.sk-toggleable__content {max-height: 200px;max-width: 100%;overflow: auto;}#sk-container-id-1 input.sk-toggleable__control:checked~label.sk-toggleable__label-arrow:before {content: \"▾\";}#sk-container-id-1 div.sk-estimator input.sk-toggleable__control:checked~label.sk-toggleable__label {background-color: #d4ebff;}#sk-container-id-1 div.sk-label input.sk-toggleable__control:checked~label.sk-toggleable__label {background-color: #d4ebff;}#sk-container-id-1 input.sk-hidden--visually {border: 0;clip: rect(1px 1px 1px 1px);clip: rect(1px, 1px, 1px, 1px);height: 1px;margin: -1px;overflow: hidden;padding: 0;position: absolute;width: 1px;}#sk-container-id-1 div.sk-estimator {font-family: monospace;background-color: #f0f8ff;border: 1px dotted black;border-radius: 0.25em;box-sizing: border-box;margin-bottom: 0.5em;}#sk-container-id-1 div.sk-estimator:hover {background-color: #d4ebff;}#sk-container-id-1 div.sk-parallel-item::after {content: \"\";width: 100%;border-bottom: 1px solid gray;flex-grow: 1;}#sk-container-id-1 div.sk-label:hover label.sk-toggleable__label {background-color: #d4ebff;}#sk-container-id-1 div.sk-serial::before {content: \"\";position: absolute;border-left: 1px solid gray;box-sizing: border-box;top: 0;bottom: 0;left: 50%;z-index: 0;}#sk-container-id-1 div.sk-serial {display: flex;flex-direction: column;align-items: center;background-color: white;padding-right: 0.2em;padding-left: 0.2em;position: relative;}#sk-container-id-1 div.sk-item {position: relative;z-index: 1;}#sk-container-id-1 div.sk-parallel {display: flex;align-items: stretch;justify-content: center;background-color: white;position: relative;}#sk-container-id-1 div.sk-item::before, #sk-container-id-1 div.sk-parallel-item::before {content: \"\";position: absolute;border-left: 1px solid gray;box-sizing: border-box;top: 0;bottom: 0;left: 50%;z-index: -1;}#sk-container-id-1 div.sk-parallel-item {display: flex;flex-direction: column;z-index: 1;position: relative;background-color: white;}#sk-container-id-1 div.sk-parallel-item:first-child::after {align-self: flex-end;width: 50%;}#sk-container-id-1 div.sk-parallel-item:last-child::after {align-self: flex-start;width: 50%;}#sk-container-id-1 div.sk-parallel-item:only-child::after {width: 0;}#sk-container-id-1 div.sk-dashed-wrapped {border: 1px dashed gray;margin: 0 0.4em 0.5em 0.4em;box-sizing: border-box;padding-bottom: 0.4em;background-color: white;}#sk-container-id-1 div.sk-label label {font-family: monospace;font-weight: bold;display: inline-block;line-height: 1.2em;}#sk-container-id-1 div.sk-label-container {text-align: center;}#sk-container-id-1 div.sk-container {/* jupyter's `normalize.less` sets `[hidden] { display: none; }` but bootstrap.min.css set `[hidden] { display: none !important; }` so we also need the `!important` here to be able to override the default hidden behavior on the sphinx rendered scikit-learn.org. See: https://github.com/scikit-learn/scikit-learn/issues/21755 */display: inline-block !important;position: relative;}#sk-container-id-1 div.sk-text-repr-fallback {display: none;}</style><div id=\"sk-container-id-1\" class=\"sk-top-container\"><div class=\"sk-text-repr-fallback\"><pre>XGBClassifier(base_score=0.5, booster=&#x27;gbtree&#x27;, callbacks=None,\n",
       "              colsample_bylevel=1, colsample_bynode=1, colsample_bytree=1,\n",
       "              early_stopping_rounds=None, enable_categorical=False,\n",
       "              eval_metric=None, gamma=0, gpu_id=-1, grow_policy=&#x27;depthwise&#x27;,\n",
       "              importance_type=None, interaction_constraints=&#x27;&#x27;,\n",
       "              learning_rate=0.300000012, max_bin=256, max_cat_to_onehot=4,\n",
       "              max_delta_step=0, max_depth=6, max_leaves=0, min_child_weight=1,\n",
       "              missing=nan, monotone_constraints=&#x27;()&#x27;, n_estimators=100,\n",
       "              n_jobs=0, num_parallel_tree=1, predictor=&#x27;auto&#x27;, random_state=42,\n",
       "              reg_alpha=0, reg_lambda=1, ...)</pre><b>In a Jupyter environment, please rerun this cell to show the HTML representation or trust the notebook. <br />On GitHub, the HTML representation is unable to render, please try loading this page with nbviewer.org.</b></div><div class=\"sk-container\" hidden><div class=\"sk-item\"><div class=\"sk-estimator sk-toggleable\"><input class=\"sk-toggleable__control sk-hidden--visually\" id=\"sk-estimator-id-1\" type=\"checkbox\" checked><label for=\"sk-estimator-id-1\" class=\"sk-toggleable__label sk-toggleable__label-arrow\">XGBClassifier</label><div class=\"sk-toggleable__content\"><pre>XGBClassifier(base_score=0.5, booster=&#x27;gbtree&#x27;, callbacks=None,\n",
       "              colsample_bylevel=1, colsample_bynode=1, colsample_bytree=1,\n",
       "              early_stopping_rounds=None, enable_categorical=False,\n",
       "              eval_metric=None, gamma=0, gpu_id=-1, grow_policy=&#x27;depthwise&#x27;,\n",
       "              importance_type=None, interaction_constraints=&#x27;&#x27;,\n",
       "              learning_rate=0.300000012, max_bin=256, max_cat_to_onehot=4,\n",
       "              max_delta_step=0, max_depth=6, max_leaves=0, min_child_weight=1,\n",
       "              missing=nan, monotone_constraints=&#x27;()&#x27;, n_estimators=100,\n",
       "              n_jobs=0, num_parallel_tree=1, predictor=&#x27;auto&#x27;, random_state=42,\n",
       "              reg_alpha=0, reg_lambda=1, ...)</pre></div></div></div></div></div>"
      ],
      "text/plain": [
       "XGBClassifier(base_score=0.5, booster='gbtree', callbacks=None,\n",
       "              colsample_bylevel=1, colsample_bynode=1, colsample_bytree=1,\n",
       "              early_stopping_rounds=None, enable_categorical=False,\n",
       "              eval_metric=None, gamma=0, gpu_id=-1, grow_policy='depthwise',\n",
       "              importance_type=None, interaction_constraints='',\n",
       "              learning_rate=0.300000012, max_bin=256, max_cat_to_onehot=4,\n",
       "              max_delta_step=0, max_depth=6, max_leaves=0, min_child_weight=1,\n",
       "              missing=nan, monotone_constraints='()', n_estimators=100,\n",
       "              n_jobs=0, num_parallel_tree=1, predictor='auto', random_state=42,\n",
       "              reg_alpha=0, reg_lambda=1, ...)"
      ]
     },
     "execution_count": 7,
     "metadata": {},
     "output_type": "execute_result"
    }
   ],
   "source": [
    "xgb_model.fit(X_train, y_train)"
   ]
  },
  {
   "cell_type": "code",
   "execution_count": 8,
   "id": "ba794f3f-9094-41e7-b89b-9754ffba4834",
   "metadata": {},
   "outputs": [],
   "source": [
    "xgb_predictions = xgb_model.predict(X_test)"
   ]
  },
  {
   "cell_type": "markdown",
   "id": "0b26db09-692e-485c-b5e7-c81c6e09195c",
   "metadata": {},
   "source": [
    "# Assess results"
   ]
  },
  {
   "cell_type": "code",
   "execution_count": 9,
   "id": "61631441-c0e1-4b30-8bf4-b7d480c8e311",
   "metadata": {},
   "outputs": [
    {
     "data": {
      "text/plain": [
       "0.9328478964401294"
      ]
     },
     "execution_count": 9,
     "metadata": {},
     "output_type": "execute_result"
    }
   ],
   "source": [
    "accuracy_score(y_true=y_test, y_pred=xgb_predictions)"
   ]
  },
  {
   "cell_type": "markdown",
   "id": "be3cd685-abc5-4bb4-8335-400de3e2c889",
   "metadata": {},
   "source": [
    "The overall accuracy of 93% is promising, let's delve deeper..."
   ]
  },
  {
   "cell_type": "markdown",
   "id": "021ca70c-9aab-4e7d-bfb8-ab88f9b45e17",
   "metadata": {},
   "source": [
    "## Confusion Matrix"
   ]
  },
  {
   "cell_type": "code",
   "execution_count": 10,
   "id": "c37d86ce-9e2a-4db8-b7fb-ef68ffaf771f",
   "metadata": {
    "tags": []
   },
   "outputs": [
    {
     "data": {
      "image/png": "[encoded data removed]",
      "text/plain": [
       "<Figure size 432x288 with 2 Axes>"
      ]
     },
     "metadata": {
      "needs_background": "light"
     },
     "output_type": "display_data"
    }
   ],
   "source": [
    "cm = confusion_matrix(y_test, xgb_predictions, labels=xgb_model.classes_)\n",
    "disp = ConfusionMatrixDisplay(confusion_matrix=cm, display_labels=xgb_model.classes_)\n",
    "disp.plot()\n",
    "plt.title(\"Confusion Matrix: XGB\")\n",
    "plt.show()"
   ]
  },
  {
   "cell_type": "markdown",
   "id": "2bf1b245-3a79-4cc0-a0e9-65481e60015d",
   "metadata": {},
   "source": [
    "## Analyzing confusion matrix"
   ]
  },
  {
   "cell_type": "code",
   "execution_count": 11,
   "id": "62b8d8dc-15a4-454e-8380-d33660b740db",
   "metadata": {},
   "outputs": [
    {
     "name": "stdout",
     "output_type": "stream",
     "text": [
      "              precision    recall  f1-score   support\n",
      "\n",
      "           0       0.95      0.97      0.96      3127\n",
      "           1       0.81      0.74      0.78       581\n",
      "\n",
      "    accuracy                           0.93      3708\n",
      "   macro avg       0.88      0.86      0.87      3708\n",
      "weighted avg       0.93      0.93      0.93      3708\n",
      "\n"
     ]
    }
   ],
   "source": [
    "print(classification_report(y_true=y_test, y_pred=xgb_predictions))"
   ]
  },
  {
   "cell_type": "code",
   "execution_count": 12,
   "id": "33da1c59-b8f7-4ad4-9c07-cf4c2f4260b8",
   "metadata": {},
   "outputs": [
    {
     "data": {
      "text/plain": [
       "6.715210355987054"
      ]
     },
     "execution_count": 12,
     "metadata": {},
     "output_type": "execute_result"
    }
   ],
   "source": [
    "# Misclassification Rate:\n",
    "((99+150) / (431+3028+99+150))*100  "
   ]
  },
  {
   "cell_type": "markdown",
   "id": "e1870dc3-eacb-441f-826a-92048b777744",
   "metadata": {},
   "source": [
    "### Reminder\n",
    "\n",
    "- **Accuracy** - The percentage of instances where the model's predictions were correct (TP + TN / TP + TN + FP + FN)\n",
    "- **Precision** - The percentage of positive predictions that were correct (TP / TP + FP). i.e., of all the times you predicted positive, what percentage of your predictions were correct?\n",
    "- **Recall** - The percentage of actual positive instances that were correctly predicted (TP / TP + FN). i.e., what % of the actual positive values were you able to correctly predict as positive.\n",
    "- **F1 score** - The harmonic mean of precision and recall (2 * precision * recall / precision + recall)\n",
    "- **Misclassification rate** - The percentage of instances where the model's predictions were incorrect (FP + FN / TP + TN + FP + FN)"
   ]
  },
  {
   "cell_type": "markdown",
   "id": "5141c4b8-3074-4267-b49e-e1acac5f5e37",
   "metadata": {},
   "source": [
    "- 81% precision for class 1 is also promising but I'll aim to improve this.\n",
    "- Recall for positive class is 74%, so this tells us that the model will correctly predict ~3 out of every 4 positive values (74% accurate) when trying to predict the positive class.\n",
    "- So, the model is accurate at predicting 0s (of which there are many more in the imbalanced dataset) but could do with improvement at predicting the positive classes. I want to improve on this."
   ]
  },
  {
   "cell_type": "markdown",
   "id": "5d3b22b2-eade-4160-95f0-e657025c1660",
   "metadata": {},
   "source": [
    "# Shapley values\n",
    "I want to explore the feature importance and so will use Shapley values for this. \n",
    "\n",
    "**What are Shapley values?** A prediction can be explained by assuming that each feature value of the instance is a “player” in a game where the prediction is the payout. Shapley values – a method from coalitional game theory – tells us how to fairly distribute the “payout” among the features."
   ]
  },
  {
   "cell_type": "code",
   "execution_count": 13,
   "id": "79dc28d7-b8fb-4ed4-a2e7-e43da4700c84",
   "metadata": {
    "scrolled": true,
    "tags": []
   },
   "outputs": [
    {
     "name": "stderr",
     "output_type": "stream",
     "text": [
      "ntree_limit is deprecated, use `iteration_range` or model slicing instead.\n"
     ]
    },
    {
     "data": {
      "image/png": "[encoded data removed]",
      "text/plain": [
       "<Figure size 576x2239.2 with 1 Axes>"
      ]
     },
     "metadata": {
      "needs_background": "light"
     },
     "output_type": "display_data"
    }
   ],
   "source": [
    "shap_values = shap.TreeExplainer(xgb_model).shap_values(X_train)\n",
    "shap.summary_plot(shap_values, X_train, plot_type=\"bar\", max_display=1000)"
   ]
  },
  {
   "cell_type": "markdown",
   "id": "8f2b46e4-fe62-4f10-a2b2-ef50cafee3fb",
   "metadata": {},
   "source": [
    "- Unsuprisingly, the wages and releases clause columns are two of the most influential features. This is something that could have been anticipated.\n",
    "- Interestingly, stamina and potential seem to be quite influential.\n",
    "- My original idea was to try to predict whether a player played in the top league based on physical and technical characteristics. Should I push on with this model that includes monetary figures or drop those columns and see if I can create a model with only the physical and technical characterisitics?"
   ]
  },
  {
   "cell_type": "markdown",
   "id": "b9adcb63-d041-4697-8ddd-460fb224b5e3",
   "metadata": {},
   "source": [
    "# Next Steps\n",
    "- Remove the monetary metrics and run model"
   ]
  },
  {
   "cell_type": "code",
   "execution_count": null,
   "id": "509e4d17-1afc-4a26-98ec-5cb27df13fd6",
   "metadata": {},
   "outputs": [],
   "source": []
  }
 ],
 "metadata": {
  "kernelspec": {
   "display_name": "Python 3",
   "language": "python",
   "name": "python3"
  },
  "language_info": {
   "codemirror_mode": {
    "name": "ipython",
    "version": 3
   },
   "file_extension": ".py",
   "mimetype": "text/x-python",
   "name": "python",
   "nbconvert_exporter": "python",
   "pygments_lexer": "ipython3",
   "version": "3.8.8"
  }
 },
 "nbformat": 4,
 "nbformat_minor": 5
}
